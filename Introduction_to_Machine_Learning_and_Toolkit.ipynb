{
 "cells": [
  {
   "cell_type": "markdown",
   "metadata": {
    "run_control": {
     "marked": true
    }
   },
   "source": [
    "# Introdução a Aprendizado de Máquina"
   ]
  },
  {
   "cell_type": "markdown",
   "metadata": {
    "run_control": {
     "marked": true
    }
   },
   "source": [
    "## Introdução\n",
    "\n",
    "Utilizaremos a base de dados iris para esse tutorial. Essa é uma base de dados bastante conhecida contendo medidas das pétalas e sépalas da flor de íris. Os dados estão contidos em um arquivo chamado `Iris_Data.csv` encontrado no diretório [data](data)."
   ]
  },
  {
   "cell_type": "code",
   "execution_count": 1,
   "metadata": {
    "collapsed": true
   },
   "outputs": [],
   "source": [
    "import os\n",
    "data_path = ['data']"
   ]
  },
  {
   "cell_type": "markdown",
   "metadata": {
    "run_control": {
     "marked": true
    }
   },
   "source": [
    "# Exercício 1\n",
    "\n",
    "Carregue os dados do arquivo usando as técnicas do tutorial *Introduction_to_Machine_Learning_and_Toolkit*. Examine o arquivo.\n",
    "\n",
    "Indique o seguinte:\n",
    "\n",
    "* O número de pontos (linhas) (*Dica:* verifique o atributo `.shape` do dataframe.)\n",
    "* O nome das colunas. (*Dica:* verifique o atributo `.columns` do dataframe.)\n",
    "* Os tipos associados a cada coluna. (*Dica:* verifique o atributo `.dtypes` do dataframe.)"
   ]
  },
  {
   "cell_type": "code",
   "execution_count": 4,
   "metadata": {
    "ExecuteTime": {
     "end_time": "2017-03-19T23:17:21.954025Z",
     "start_time": "2017-03-19T19:17:21.936220-04:00"
    },
    "run_control": {
     "marked": true
    }
   },
   "outputs": [
    {
     "ename": "SyntaxError",
     "evalue": "invalid syntax (<ipython-input-4-537826984132>, line 16)",
     "output_type": "error",
     "traceback": [
      "\u001b[0;36m  File \u001b[0;32m\"<ipython-input-4-537826984132>\"\u001b[0;36m, line \u001b[0;32m16\u001b[0m\n\u001b[0;31m    sepal_length    float64\u001b[0m\n\u001b[0m                          ^\u001b[0m\n\u001b[0;31mSyntaxError\u001b[0m\u001b[0;31m:\u001b[0m invalid syntax\n"
     ]
    }
   ],
   "source": [
    "import pandas as pd\n",
    "filepath = 'data/Iris_Data.csv'\n",
    "data = pd.read_csv(filepath)\n",
    "\n",
    "print(data.shape)\n",
    "(150,5)\n",
    "#número de linhas = 150\n",
    "\n",
    "print(data.columns)\n",
    "Index(['sepal_length', 'sepal_width', 'petal_length', 'petal_width',\n",
    "       'species'],\n",
    "      dtype='object')\n",
    "#nome das colunas = sepal_length, sepal_width, petal_length, petal_width, species\n",
    "\n",
    "print(data.dtypes)\n",
    "sepal_length    float64\n",
    "sepal_width     float64\n",
    "petal_length    float64\n",
    "petal_width     float64\n",
    "species          object\n",
    "dtype: object\n"
   ]
  },
  {
   "cell_type": "markdown",
   "metadata": {
    "run_control": {
     "marked": true
    }
   },
   "source": [
    "## Exercício 2\n",
    "\n",
    "Examine os nomes das espécies e note que todas elas começam com 'Iris-'. Remova essa parte do nome para tornar o nome mais curto. \n",
    "\n",
    "*Dica:* tem várias maneiras de fazer isso, você pode usar o [string processing methods](http://pandas.pydata.org/pandas-docs/stable/text.html) ou o [apply method](http://pandas.pydata.org/pandas-docs/stable/generated/pandas.Series.apply.html), por exemplo."
   ]
  },
  {
   "cell_type": "code",
   "execution_count": null,
   "metadata": {
    "ExecuteTime": {
     "end_time": "2017-03-19T23:17:53.678316Z",
     "start_time": "2017-03-19T19:17:53.660202-04:00"
    },
    "collapsed": true,
    "run_control": {
     "marked": true
    }
   },
   "outputs": [],
   "source": [
    ">>> print(data.species.str.replace('Iris-',''))\n",
    "0         setosa\n",
    "1         setosa\n",
    "2         setosa\n",
    "3         setosa\n",
    "4         setosa\n",
    "5         setosa\n",
    "6         setosa\n",
    "7         setosa\n",
    "8         setosa\n",
    "9         setosa\n",
    "10        setosa\n",
    "11        setosa\n",
    "12        setosa\n",
    "13        setosa\n",
    "14        setosa\n",
    "15        setosa\n",
    "16        setosa\n",
    "17        setosa\n",
    "18        setosa\n",
    "19        setosa\n",
    "20        setosa\n",
    "21        setosa\n",
    "22        setosa\n",
    "23        setosa\n",
    "24        setosa\n",
    "25        setosa\n",
    "26        setosa\n",
    "27        setosa\n",
    "28        setosa\n",
    "29        setosa\n",
    "         ...    \n",
    "120    virginica\n",
    "121    virginica\n",
    "122    virginica\n",
    "123    virginica\n",
    "124    virginica\n",
    "125    virginica\n",
    "126    virginica\n",
    "127    virginica\n",
    "128    virginica\n",
    "129    virginica\n",
    "130    virginica\n",
    "131    virginica\n",
    "132    virginica\n",
    "133    virginica\n",
    "134    virginica\n",
    "135    virginica\n",
    "136    virginica\n",
    "137    virginica\n",
    "138    virginica\n",
    "139    virginica\n",
    "140    virginica\n",
    "141    virginica\n",
    "142    virginica\n",
    "143    virginica\n",
    "144    virginica\n",
    "145    virginica\n",
    "146    virginica\n",
    "147    virginica\n",
    "148    virginica\n",
    "149    virginica\n",
    "Name: species, Length: 150, dtype: object\n"
   ]
  },
  {
   "cell_type": "markdown",
   "metadata": {
    "run_control": {
     "marked": true
    }
   },
   "source": [
    "## Exercício 3\n",
    "\n",
    "Determine:\n",
    "* A quantidade de cada espécie presente na base. (*Dica:* verifique o método `.value_counts` da série.)\n",
    "* A média, mediana, quantis e faixas (máximo-mínimo) para cada medida de pétala e sépala.\n",
    "\n",
    "*Dica:* para a última parte, o método `.describe` tem mediana, mas é chamada de *50%* quantile. `.describe` não tem faixa, portanto você precisará criar uma nova entrada na tabela com `max - min`."
   ]
  },
  {
   "cell_type": "code",
   "execution_count": null,
   "metadata": {
    "ExecuteTime": {
     "end_time": "2017-03-19T23:20:16.483215Z",
     "start_time": "2017-03-19T19:20:16.472865-04:00"
    },
    "collapsed": true,
    "run_control": {
     "marked": true
    }
   },
   "outputs": [],
   "source": [
    ">>> print(data.groupby('species').size())\n",
    "species\n",
    "Iris-setosa        50\n",
    "Iris-versicolor    50\n",
    "Iris-virginica     50"
   ]
  },
  {
   "cell_type": "markdown",
   "metadata": {
    "run_control": {
     "marked": true
    }
   },
   "source": [
    "## Exercício 4\n",
    "\n",
    "Calcule **para cada espécie** em um dataframe separado:\n",
    "\n",
    "* A média de cada medida (sepal_length, sepal_width, petal_length, e petal_width).\n",
    "* A mediana dessas medidas.\n",
    "\n",
    "*Dica:* você pode usar o método [`groupby`](http://pandas.pydata.org/pandas-docs/stable/generated/pandas.DataFrame.groupby.html) do Pandas para agrupar as espécies antes de calcular as estatísticas.\n",
    "\n",
    "Se você terminar ambos os cálculos, tente calcular a média e mediana em uma única tabela (com uma única chamada de groupby). Veja a seção da documentação [applying multiple functions at once](http://pandas.pydata.org/pandas-docs/stable/groupby.html#applying-multiple-functions-at-once) para algumas dicas."
   ]
  },
  {
   "cell_type": "code",
   "execution_count": null,
   "metadata": {
    "ExecuteTime": {
     "end_time": "2017-03-19T23:22:07.306171Z",
     "start_time": "2017-03-19T19:22:07.286965-04:00"
    },
    "collapsed": true
   },
   "outputs": [],
   "source": [
    "#média\n",
    ">>> print(data.groupby('species').mean())\n",
    "                 sepal_length  sepal_width  petal_length  petal_width\n",
    "species                                                              \n",
    "Iris-setosa             5.006        3.418         1.464        0.244\n",
    "Iris-versicolor         5.936        2.770         4.260        1.326\n",
    "Iris-virginica          6.588        2.974         5.552        2.026\n",
    "\n",
    "#mediana\n",
    ">>> print(data.groupby('species').median())\n",
    "                 sepal_length  sepal_width  petal_length  petal_width\n",
    "species                                                              \n",
    "Iris-setosa               5.0          3.4          1.50          0.2\n",
    "Iris-versicolor           5.9          2.8          4.35          1.3\n",
    "Iris-virginica            6.5          3.0          5.55          2.0\n",
    "\n",
    "#média e mediana na mesma tabela\n",
    ">>> print(data.groupby('species').agg([np.mean, np.median]))\n",
    "                sepal_length        sepal_width        petal_length         \\\n",
    "                        mean median        mean median         mean median   \n",
    "species                                                                      \n",
    "Iris-setosa            5.006    5.0       3.418    3.4        1.464   1.50   \n",
    "Iris-versicolor        5.936    5.9       2.770    2.8        4.260   4.35   \n",
    "Iris-virginica         6.588    6.5       2.974    3.0        5.552   5.55   \n",
    "\n",
    "                petal_width         \n",
    "                       mean median  \n",
    "species                             \n",
    "Iris-setosa           0.244    0.2  \n",
    "Iris-versicolor       1.326    1.3  \n",
    "Iris-virginica        2.026    2.0  \n"
   ]
  },
  {
   "cell_type": "markdown",
   "metadata": {},
   "source": [
    "## Exercício 5\n",
    "\n",
    "Faça um scatter plot de `sepal_length` vs `sepal_width` usando Matplotlib. Coloque um `label` nos eixos e dê um título ao gráfico."
   ]
  },
  {
   "cell_type": "code",
   "execution_count": null,
   "metadata": {
    "ExecuteTime": {
     "end_time": "2017-03-19T23:23:36.914375Z",
     "start_time": "2017-03-19T19:23:36.661322-04:00"
    },
    "collapsed": true
   },
   "outputs": [],
   "source": [
    ">>> plt.plot(data.sepal_length,data.sepal_width, ls='', marker='o')\n",
    "[<matplotlib.lines.Line2D object at 0x7f49d30ab278>]\n",
    ">>> plt.show()\n"
   ]
  },
  {
   "cell_type": "markdown",
   "metadata": {},
   "source": [
    "## Exercício 6\n",
    "\n",
    "Faça um histograma de qualquer um dos quatro atributos. Nomeie os eixos e dê um título apropriado."
   ]
  },
  {
   "cell_type": "code",
   "execution_count": null,
   "metadata": {
    "collapsed": true
   },
   "outputs": [],
   "source": [
    "import matplotlib.pyplot as plt\n",
    ">>> plt.hist(data.sepal_length, bins =25)\n",
    "(array([  4.,   1.,   6.,   5.,  16.,   9.,   5.,   6.,   7.,  14.,   7.,\n",
    "         9.,   6.,  13.,   7.,   7.,   8.,   3.,   5.,   1.,   4.,   1.,\n",
    "         1.,   4.,   1.]), array([ 4.3  ,  4.444,  4.588,  4.732,  4.876,  5.02 ,  5.164,  5.308,\n",
    "        5.452,  5.596,  5.74 ,  5.884,  6.028,  6.172,  6.316,  6.46 ,\n",
    "        6.604,  6.748,  6.892,  7.036,  7.18 ,  7.324,  7.468,  7.612,\n",
    "        7.756,  7.9  ]), <a list of 25 Patch objects>)\n",
    ">>> plt.show()\n",
    "\n"
   ]
  },
  {
   "cell_type": "markdown",
   "metadata": {},
   "source": [
    "## Exercício 7\n",
    "\n",
    "Agora crie um único gráfico com histogramas para cada atributo (`petal_width`, `petal_length`, `sepal_width`, `sepal_length`) sobrepostos. \n",
    "\n",
    "Dicas para fazer isso com os métodos de plotagem do Pandas se encontram em [visualization guide](http://pandas.pydata.org/pandas-docs/version/0.18.1/visualization.html)."
   ]
  },
  {
   "cell_type": "code",
   "execution_count": 2,
   "metadata": {},
   "outputs": [
    {
     "ename": "NameError",
     "evalue": "name 'plt' is not defined",
     "output_type": "error",
     "traceback": [
      "\u001b[0;31m---------------------------------------------------------------------------\u001b[0m",
      "\u001b[0;31mNameError\u001b[0m                                 Traceback (most recent call last)",
      "\u001b[0;32m<ipython-input-2-009b470928a8>\u001b[0m in \u001b[0;36m<module>\u001b[0;34m()\u001b[0m\n\u001b[0;32m----> 1\u001b[0;31m \u001b[0mplt\u001b[0m\u001b[0;34m.\u001b[0m\u001b[0mhist\u001b[0m\u001b[0;34m(\u001b[0m\u001b[0mpetal_width\u001b[0m\u001b[0;34m,\u001b[0m \u001b[0mbins\u001b[0m\u001b[0;34m=\u001b[0m\u001b[0;36m25\u001b[0m\u001b[0;34m)\u001b[0m\u001b[0;34m\u001b[0m\u001b[0m\n\u001b[0m\u001b[1;32m      2\u001b[0m \u001b[0mplt\u001b[0m\u001b[0;34m.\u001b[0m\u001b[0mhist\u001b[0m\u001b[0;34m(\u001b[0m\u001b[0mpetal_length\u001b[0m\u001b[0;34m,\u001b[0m \u001b[0mbins\u001b[0m\u001b[0;34m=\u001b[0m\u001b[0;36m25\u001b[0m\u001b[0;34m)\u001b[0m\u001b[0;34m\u001b[0m\u001b[0m\n\u001b[1;32m      3\u001b[0m \u001b[0mplt\u001b[0m\u001b[0;34m.\u001b[0m\u001b[0mhist\u001b[0m\u001b[0;34m(\u001b[0m\u001b[0msepal_width\u001b[0m\u001b[0;34m,\u001b[0m \u001b[0mbins\u001b[0m\u001b[0;34m=\u001b[0m\u001b[0;36m25\u001b[0m\u001b[0;34m)\u001b[0m\u001b[0;34m\u001b[0m\u001b[0m\n\u001b[1;32m      4\u001b[0m \u001b[0mplt\u001b[0m\u001b[0;34m.\u001b[0m\u001b[0mhist\u001b[0m\u001b[0;34m(\u001b[0m\u001b[0msepal_length\u001b[0m\u001b[0;34m,\u001b[0m \u001b[0mbins\u001b[0m\u001b[0;34m=\u001b[0m\u001b[0;36m25\u001b[0m\u001b[0;34m)\u001b[0m\u001b[0;34m\u001b[0m\u001b[0m\n\u001b[1;32m      5\u001b[0m \u001b[0mplt\u001b[0m\u001b[0;34m.\u001b[0m\u001b[0mshow\u001b[0m\u001b[0;34m(\u001b[0m\u001b[0;34m)\u001b[0m\u001b[0;34m\u001b[0m\u001b[0m\n",
      "\u001b[0;31mNameError\u001b[0m: name 'plt' is not defined"
     ]
    }
   ],
   "source": [
    "plt.hist(petal_width, bins=25)\n",
    "plt.hist(petal_length, bins=25)\n",
    "plt.hist(sepal_width, bins=25)\n",
    "plt.hist(sepal_length, bins=25)\n",
    "plt.show()"
   ]
  },
  {
   "cell_type": "markdown",
   "metadata": {},
   "source": [
    "## Exercício 8\n",
    "\n",
    "Usando Pandas, faça um boxplot de cada medida da pétala e sépala. Veja a documentação para algumas dicas [Pandas boxplot method](http://pandas.pydata.org/pandas-docs/version/0.18.1/visualization.html#visualization-box)."
   ]
  },
  {
   "cell_type": "code",
   "execution_count": null,
   "metadata": {},
   "outputs": [],
   "source": [
    "import pandas as pd\n",
    "df = pd.DataFrame(data.petal_width)\n",
    "df.plot.box()\n",
    "\n",
    "df = pd.DataFrame(data.petal_length)\n",
    "df.plot.box()\n",
    "\n",
    "df = pd.DataFrame(data.sepal_width)\n",
    "df.plot.box()\n",
    "\n",
    "df = pd.DataFrame(data.sepal_length)\n",
    "df.plot.box()\n"
   ]
  },
  {
   "cell_type": "markdown",
   "metadata": {},
   "source": [
    "## Exercício 9\n",
    "\n",
    "Agora faça um único boxplot onde os atributos estão separados no eixo-x e as espécies são coloridas por tons de cores diferentes.\n",
    "\n",
    "*Dica:* veja a documentação para [Seaborn boxplots](http://seaborn.pydata.org/generated/seaborn.boxplot.html). \n",
    "\n",
    "Note que o Seaborn é bem exigente quanto ao formato dos dados--para esse plot funcionar, o dataframe de entrada precisa ser manipulado para que cada linha contenha um único ponto (uma espécie, um tipo de medida e um valor da medida). Veja o Pandas [stack](http://pandas.pydata.org/pandas-docs/stable/generated/pandas.DataFrame.stack.html) como uma dica.\n",
    "\n",
    "Um exemplo desse formato para essa base:\n",
    "\n",
    "|   | species | measurement  | size |\n",
    "| - | ------- | ------------ | ---- |\n",
    "| 0\t| setosa  | sepal_length | 5.1  |\n",
    "| 1\t| setosa  | sepal_width  | 3.5  |"
   ]
  },
  {
   "cell_type": "code",
   "execution_count": 7,
   "metadata": {},
   "outputs": [
    {
     "ename": "NameError",
     "evalue": "name 'data' is not defined",
     "output_type": "error",
     "traceback": [
      "\u001b[0;31m---------------------------------------------------------------------------\u001b[0m",
      "\u001b[0;31mNameError\u001b[0m                                 Traceback (most recent call last)",
      "\u001b[0;32m<ipython-input-7-4dcaf8ccbbc2>\u001b[0m in \u001b[0;36m<module>\u001b[0;34m()\u001b[0m\n\u001b[1;32m      1\u001b[0m \u001b[0;32mimport\u001b[0m \u001b[0mseaborn\u001b[0m \u001b[0;32mas\u001b[0m \u001b[0msns\u001b[0m\u001b[0;34m\u001b[0m\u001b[0m\n\u001b[0;32m----> 2\u001b[0;31m \u001b[0mdf\u001b[0m \u001b[0;34m=\u001b[0m \u001b[0mpd\u001b[0m\u001b[0;34m.\u001b[0m\u001b[0mDataFrame\u001b[0m\u001b[0;34m(\u001b[0m\u001b[0mdata\u001b[0m\u001b[0;34m,\u001b[0m \u001b[0mcolumns\u001b[0m\u001b[0;34m=\u001b[0m\u001b[0;34m(\u001b[0m\u001b[0;34m[\u001b[0m\u001b[0;34m'petal_width'\u001b[0m\u001b[0;34m,\u001b[0m\u001b[0;34m'petal_length'\u001b[0m\u001b[0;34m,\u001b[0m\u001b[0;34m'sepal_width'\u001b[0m\u001b[0;34m,\u001b[0m\u001b[0;34m'sepal_length'\u001b[0m\u001b[0;34m]\u001b[0m\u001b[0;34m)\u001b[0m\u001b[0;34m)\u001b[0m\u001b[0;34m\u001b[0m\u001b[0m\n\u001b[0m\u001b[1;32m      3\u001b[0m \u001b[0mdf\u001b[0m\u001b[0;34m.\u001b[0m\u001b[0mplot\u001b[0m\u001b[0;34m.\u001b[0m\u001b[0mbox\u001b[0m\u001b[0;34m(\u001b[0m\u001b[0;34m)\u001b[0m\u001b[0;34m\u001b[0m\u001b[0m\n",
      "\u001b[0;31mNameError\u001b[0m: name 'data' is not defined"
     ]
    }
   ],
   "source": [
    "df = pd.DataFrame(data, columns=(['petal_width','petal_length','sepal_width','sepal_length']))\n",
    "df.plot.box()"
   ]
  },
  {
   "cell_type": "markdown",
   "metadata": {},
   "source": [
    "## Exercício 10\n",
    "\n",
    "Faça um  [pairplot](http://seaborn.pydata.org/generated/seaborn.pairplot.html) com o Seaborn para examinar a correlação entre cada uma das medidas.\n",
    "\n",
    "*Dica:* esse plot pode parecer complicado, mas é na verdade uma única linha de código. Esse é o poder de expressabilidade do Seaborn junto do Pandas."
   ]
  },
  {
   "cell_type": "code",
   "execution_count": null,
   "metadata": {
    "collapsed": true
   },
   "outputs": [],
   "source": [
    "import seaborn as sns\n",
    "sns.pairplot(data)"
   ]
  }
 ],
 "metadata": {
  "anaconda-cloud": {},
  "kernelspec": {
   "display_name": "Python 3",
   "language": "python",
   "name": "python3"
  },
  "language_info": {
   "codemirror_mode": {
    "name": "ipython",
    "version": 3
   },
   "file_extension": ".py",
   "mimetype": "text/x-python",
   "name": "python",
   "nbconvert_exporter": "python",
   "pygments_lexer": "ipython3",
   "version": "3.6.3"
  }
 },
 "nbformat": 4,
 "nbformat_minor": 2
}
